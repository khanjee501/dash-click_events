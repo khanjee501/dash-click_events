{
 "cells": [
  {
   "cell_type": "code",
   "execution_count": 1,
   "id": "ac91eaa9",
   "metadata": {},
   "outputs": [],
   "source": [
    "import pandas as pd"
   ]
  },
  {
   "cell_type": "code",
   "execution_count": 4,
   "id": "34e41523",
   "metadata": {},
   "outputs": [],
   "source": [
    "df = pd.read_excel('sampleDF.xlsx')"
   ]
  },
  {
   "cell_type": "code",
   "execution_count": 6,
   "id": "ad74a309",
   "metadata": {},
   "outputs": [
    {
     "data": {
      "text/html": [
       "<div>\n",
       "<style scoped>\n",
       "    .dataframe tbody tr th:only-of-type {\n",
       "        vertical-align: middle;\n",
       "    }\n",
       "\n",
       "    .dataframe tbody tr th {\n",
       "        vertical-align: top;\n",
       "    }\n",
       "\n",
       "    .dataframe thead th {\n",
       "        text-align: right;\n",
       "    }\n",
       "</style>\n",
       "<table border=\"1\" class=\"dataframe\">\n",
       "  <thead>\n",
       "    <tr style=\"text-align: right;\">\n",
       "      <th></th>\n",
       "      <th>Unnamed: 0</th>\n",
       "      <th>x</th>\n",
       "      <th>y</th>\n",
       "      <th>z</th>\n",
       "      <th>k</th>\n",
       "      <th>a</th>\n",
       "      <th>b</th>\n",
       "      <th>c</th>\n",
       "      <th>label</th>\n",
       "      <th>time</th>\n",
       "    </tr>\n",
       "  </thead>\n",
       "  <tbody>\n",
       "    <tr>\n",
       "      <th>0</th>\n",
       "      <td>0</td>\n",
       "      <td>8.290045</td>\n",
       "      <td>1.273656</td>\n",
       "      <td>3.261302</td>\n",
       "      <td>5.163925</td>\n",
       "      <td>0.851865</td>\n",
       "      <td>0.002312</td>\n",
       "      <td>0.000000</td>\n",
       "      <td>-1</td>\n",
       "      <td>2011-12-27</td>\n",
       "    </tr>\n",
       "    <tr>\n",
       "      <th>1</th>\n",
       "      <td>1</td>\n",
       "      <td>8.347572</td>\n",
       "      <td>1.310820</td>\n",
       "      <td>3.262862</td>\n",
       "      <td>5.111578</td>\n",
       "      <td>0.022145</td>\n",
       "      <td>0.000000</td>\n",
       "      <td>0.004673</td>\n",
       "      <td>-1</td>\n",
       "      <td>2011-12-28</td>\n",
       "    </tr>\n",
       "    <tr>\n",
       "      <th>2</th>\n",
       "      <td>2</td>\n",
       "      <td>8.390349</td>\n",
       "      <td>1.226544</td>\n",
       "      <td>3.124048</td>\n",
       "      <td>5.165620</td>\n",
       "      <td>-0.491732</td>\n",
       "      <td>-0.006953</td>\n",
       "      <td>-0.009368</td>\n",
       "      <td>-1</td>\n",
       "      <td>2011-12-29</td>\n",
       "    </tr>\n",
       "    <tr>\n",
       "      <th>3</th>\n",
       "      <td>3</td>\n",
       "      <td>8.419984</td>\n",
       "      <td>1.274693</td>\n",
       "      <td>3.114489</td>\n",
       "      <td>5.095314</td>\n",
       "      <td>0.026992</td>\n",
       "      <td>0.045462</td>\n",
       "      <td>0.011696</td>\n",
       "      <td>-1</td>\n",
       "      <td>2011-12-30</td>\n",
       "    </tr>\n",
       "    <tr>\n",
       "      <th>4</th>\n",
       "      <td>4</td>\n",
       "      <td>8.513406</td>\n",
       "      <td>1.320493</td>\n",
       "      <td>3.049237</td>\n",
       "      <td>4.984629</td>\n",
       "      <td>0.438737</td>\n",
       "      <td>0.000000</td>\n",
       "      <td>-0.021152</td>\n",
       "      <td>-1</td>\n",
       "      <td>2011-12-31</td>\n",
       "    </tr>\n",
       "  </tbody>\n",
       "</table>\n",
       "</div>"
      ],
      "text/plain": [
       "   Unnamed: 0         x         y         z         k         a         b  \\\n",
       "0           0  8.290045  1.273656  3.261302  5.163925  0.851865  0.002312   \n",
       "1           1  8.347572  1.310820  3.262862  5.111578  0.022145  0.000000   \n",
       "2           2  8.390349  1.226544  3.124048  5.165620 -0.491732 -0.006953   \n",
       "3           3  8.419984  1.274693  3.114489  5.095314  0.026992  0.045462   \n",
       "4           4  8.513406  1.320493  3.049237  4.984629  0.438737  0.000000   \n",
       "\n",
       "          c  label       time  \n",
       "0  0.000000     -1 2011-12-27  \n",
       "1  0.004673     -1 2011-12-28  \n",
       "2 -0.009368     -1 2011-12-29  \n",
       "3  0.011696     -1 2011-12-30  \n",
       "4 -0.021152     -1 2011-12-31  "
      ]
     },
     "execution_count": 6,
     "metadata": {},
     "output_type": "execute_result"
    }
   ],
   "source": [
    "df.head()"
   ]
  },
  {
   "cell_type": "code",
   "execution_count": null,
   "id": "7b7a0ba5",
   "metadata": {},
   "outputs": [],
   "source": []
  }
 ],
 "metadata": {
  "kernelspec": {
   "display_name": "Python 3 (ipykernel)",
   "language": "python",
   "name": "python3"
  },
  "language_info": {
   "codemirror_mode": {
    "name": "ipython",
    "version": 3
   },
   "file_extension": ".py",
   "mimetype": "text/x-python",
   "name": "python",
   "nbconvert_exporter": "python",
   "pygments_lexer": "ipython3",
   "version": "3.8.8"
  }
 },
 "nbformat": 4,
 "nbformat_minor": 5
}
